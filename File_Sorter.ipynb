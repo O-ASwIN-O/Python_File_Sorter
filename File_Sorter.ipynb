{
 "cells": [
  {
   "cell_type": "code",
   "execution_count": 31,
   "id": "9c22ea50-85e8-4bf7-9dca-dac53a931518",
   "metadata": {},
   "outputs": [],
   "source": [
    "import os,shutil"
   ]
  },
  {
   "cell_type": "code",
   "execution_count": 32,
   "id": "2c91d1e6-d3c9-463f-8be2-8779894fc5f8",
   "metadata": {},
   "outputs": [],
   "source": [
    "path=r\"C:/Users/ASWIN/file_sort/\""
   ]
  },
  {
   "cell_type": "code",
   "execution_count": 33,
   "id": "74da2f44-2fc5-4bd1-91ef-8d7786b46a73",
   "metadata": {},
   "outputs": [],
   "source": [
    "files_avaliable = os.listdir(path)"
   ]
  },
  {
   "cell_type": "code",
   "execution_count": 34,
   "id": "0d575766-7f2c-4214-bb2c-85f55098efd5",
   "metadata": {},
   "outputs": [],
   "source": [
    "folder_names=['Images','Datas','Text files']\n",
    "for i in range(0,3):\n",
    "    if not os.path.exists(path + folder_names[i]):\n",
    "        os.makedirs(path+folder_names[i])\n",
    "        "
   ]
  },
  {
   "cell_type": "code",
   "execution_count": 36,
   "id": "2835e2f1-14b4-4ccd-868c-9968741fce20",
   "metadata": {},
   "outputs": [],
   "source": [
    "\n",
    "for file in files_avaliable:\n",
    "    if \".xlsx\" in file and not os.path.exists(path + \"Datas/\" + file):\n",
    "        shutil.move(path + file, path + \"Datas/\" + file)\n",
    "    elif (\".png\" in file or \".jpg\" in file) and not os.path.exists(path + \"Images/\" + file):\n",
    "        shutil.move(path + file, path + \"Images/\" + file)\n",
    "    elif \".txt\" in file and not os.path.exists(path + \"Text files/\" + file):\n",
    "        shutil.move(path + file, path + \"Text files/\" + file)\n"
   ]
  },
  {
   "cell_type": "code",
   "execution_count": null,
   "id": "fa604e4b-4f09-461a-b33e-3bdeab91eb47",
   "metadata": {},
   "outputs": [],
   "source": []
  }
 ],
 "metadata": {
  "kernelspec": {
   "display_name": "Python 3 (ipykernel)",
   "language": "python",
   "name": "python3"
  },
  "language_info": {
   "codemirror_mode": {
    "name": "ipython",
    "version": 3
   },
   "file_extension": ".py",
   "mimetype": "text/x-python",
   "name": "python",
   "nbconvert_exporter": "python",
   "pygments_lexer": "ipython3",
   "version": "3.13.5"
  }
 },
 "nbformat": 4,
 "nbformat_minor": 5
}
